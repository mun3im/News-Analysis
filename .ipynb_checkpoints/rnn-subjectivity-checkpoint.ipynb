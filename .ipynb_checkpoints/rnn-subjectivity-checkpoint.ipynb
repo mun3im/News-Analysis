{
 "cells": [
  {
   "cell_type": "code",
   "execution_count": 1,
   "metadata": {},
   "outputs": [
    {
     "name": "stderr",
     "output_type": "stream",
     "text": [
      "/usr/local/lib/python3.5/dist-packages/sklearn/cross_validation.py:41: DeprecationWarning: This module was deprecated in version 0.18 in favor of the model_selection module into which all the refactored classes and functions are moved. Also note that the interface of the new CV iterators are different from that of this module. This module will be removed in 0.20.\n",
      "  \"This module will be removed in 0.20.\", DeprecationWarning)\n"
     ]
    }
   ],
   "source": [
    "import tensorflow as tf\n",
    "import numpy as np\n",
    "import time\n",
    "import os\n",
    "from sklearn.preprocessing import LabelEncoder\n",
    "from nltk.corpus import stopwords\n",
    "import re\n",
    "from nltk.tokenize import word_tokenize\n",
    "import collections\n",
    "import random\n",
    "from unidecode import unidecode\n",
    "import time\n",
    "from sklearn.cross_validation import train_test_split\n",
    "import itertools\n",
    "import pickle\n",
    "\n",
    "english_stopwords = stopwords.words('english')"
   ]
  },
  {
   "cell_type": "code",
   "execution_count": 2,
   "metadata": {},
   "outputs": [],
   "source": [
    "def clearstring(string):\n",
    "    string = unidecode(string)\n",
    "    string = re.sub('[^A-Za-z ]+', '', string)\n",
    "    string = word_tokenize(string)\n",
    "    string = filter(None, string)\n",
    "    string = [y.strip() for y in string]\n",
    "    string = [y for y in string if len(y) > 2 and y.find('nbsp') < 0 and y.find('href') < 0 and y not in english_stopwords]\n",
    "    string = ' '.join(string).lower()\n",
    "    return ''.join(''.join(s)[:2] for _, s in itertools.groupby(string))\n",
    "\n",
    "def read_data(location):\n",
    "    list_folder = os.listdir(location)\n",
    "    label = list_folder\n",
    "    label.sort()\n",
    "    outer_string, outer_label = [], []\n",
    "    for i in range(len(list_folder)):\n",
    "        list_file = os.listdir(location + list_folder[i])\n",
    "        strings = []\n",
    "        for x in range(len(list_file)):\n",
    "            with open(location + list_folder[i] + '/' + list_file[x], 'r') as fopen:\n",
    "                strings += fopen.read().split('\\n')\n",
    "        strings = list(filter(None, strings))\n",
    "        for k in range(len(strings)):\n",
    "            strings[k] = clearstring(strings[k])\n",
    "        labels = [i] * len(strings)\n",
    "        outer_string += strings\n",
    "        outer_label += labels\n",
    "    \n",
    "    dataset = np.array([outer_string, outer_label])\n",
    "    dataset = dataset.T\n",
    "    np.random.shuffle(dataset)\n",
    "    \n",
    "    string = []\n",
    "    for i in range(dataset.shape[0]):\n",
    "        string += dataset[i][0].split()\n",
    "    \n",
    "    return string, dataset, label"
   ]
  },
  {
   "cell_type": "code",
   "execution_count": 3,
   "metadata": {},
   "outputs": [
    {
     "data": {
      "text/plain": [
       "array([['movie lacks action makes drama suspense revenge romance', '1'],\n",
       "       [ 'mexican dream tragic comedy longings delusions lure many illegal inmigrants country',\n",
       "        '0'],\n",
       "       ['pacing often way many bona fide groaners among laughs', '1'],\n",
       "       [ 'windtalkers shapelessly gratifying kind movie invites pick apart faults even admit somehow hit live',\n",
       "        '1'],\n",
       "       [ 'queens wrathful gaze tops bottomed tranny sailors seduce pirate captains kings mothers crossdressing femmes pack wallop',\n",
       "        '0']],\n",
       "      dtype='<U508')"
      ]
     },
     "execution_count": 3,
     "metadata": {},
     "output_type": "execute_result"
    }
   ],
   "source": [
    "_,df,label = read_data('/home/husein/space/text-dataset/subjectivity/data/')\n",
    "df[:5,:]"
   ]
  },
  {
   "cell_type": "code",
   "execution_count": 4,
   "metadata": {},
   "outputs": [],
   "source": [
    "with open('vector-subjectivity.p', 'rb') as fopen:\n",
    "    vectors = pickle.load(fopen)\n",
    "with open('dict-subjectivity.p', 'rb') as fopen:\n",
    "    dictionary = pickle.load(fopen)"
   ]
  },
  {
   "cell_type": "code",
   "execution_count": 5,
   "metadata": {},
   "outputs": [],
   "source": [
    "train_X, test_X, train_Y, test_Y = train_test_split(df[:,0], df[:, 1].astype('int'), test_size = 0.2)"
   ]
  },
  {
   "cell_type": "code",
   "execution_count": 6,
   "metadata": {},
   "outputs": [],
   "source": [
    "class Model:\n",
    "    \n",
    "    def __init__(self, num_layers, size_layer, dimension_input, dimension_output, learning_rate):\n",
    "        def lstm_cell():\n",
    "            return tf.nn.rnn_cell.LSTMCell(size_layer)\n",
    "        self.rnn_cells = tf.nn.rnn_cell.MultiRNNCell([lstm_cell() for _ in range(num_layers)])\n",
    "        self.X = tf.placeholder(tf.float32, [None, None, dimension_input])\n",
    "        self.Y = tf.placeholder(tf.float32, [None, dimension_output])\n",
    "        drop = tf.contrib.rnn.DropoutWrapper(self.rnn_cells, output_keep_prob = 0.5)\n",
    "        self.outputs, self.last_state = tf.nn.dynamic_rnn(drop, self.X, dtype = tf.float32)\n",
    "        self.rnn_W = tf.Variable(tf.random_normal((size_layer, dimension_output)))\n",
    "        self.rnn_B = tf.Variable(tf.random_normal([dimension_output]))\n",
    "        self.logits = tf.matmul(self.outputs[:, -1], self.rnn_W) + self.rnn_B\n",
    "        self.cost = tf.reduce_mean(tf.nn.softmax_cross_entropy_with_logits(logits = self.logits, labels = self.Y))\n",
    "        l2 = sum(0.0005 * tf.nn.l2_loss(tf_var) for tf_var in tf.trainable_variables())\n",
    "        self.cost += l2\n",
    "        self.optimizer = tf.train.AdamOptimizer(learning_rate = learning_rate).minimize(self.cost)\n",
    "        self.correct_pred = tf.equal(tf.argmax(self.logits, 1), tf.argmax(self.Y, 1))\n",
    "        self.accuracy = tf.reduce_mean(tf.cast(self.correct_pred, tf.float32))"
   ]
  },
  {
   "cell_type": "code",
   "execution_count": 7,
   "metadata": {},
   "outputs": [],
   "source": [
    "lens = [len(df[i,0].split())for i in range(df.shape[0])]"
   ]
  },
  {
   "cell_type": "code",
   "execution_count": 8,
   "metadata": {},
   "outputs": [
    {
     "data": {
      "text/plain": [
       "11.8422"
      ]
     },
     "execution_count": 8,
     "metadata": {},
     "output_type": "execute_result"
    }
   ],
   "source": [
    "np.mean(lens)"
   ]
  },
  {
   "cell_type": "code",
   "execution_count": 9,
   "metadata": {},
   "outputs": [],
   "source": [
    "maxlen = 20\n",
    "location = os.getcwd()\n",
    "num_layers = 2\n",
    "size_layer = 256\n",
    "learning_rate = 0.0001\n",
    "batch = 100"
   ]
  },
  {
   "cell_type": "code",
   "execution_count": 10,
   "metadata": {},
   "outputs": [
    {
     "name": "stdout",
     "output_type": "stream",
     "text": [
      "WARNING:tensorflow:From <ipython-input-6-b7c083deade6>:14: softmax_cross_entropy_with_logits (from tensorflow.python.ops.nn_ops) is deprecated and will be removed in a future version.\n",
      "Instructions for updating:\n",
      "\n",
      "Future major versions of TensorFlow will allow gradients to flow\n",
      "into the labels input on backprop by default.\n",
      "\n",
      "See tf.nn.softmax_cross_entropy_with_logits_v2.\n",
      "\n",
      "epoch: 0 , pass acc: 0 , current acc: 0.773999992013\n",
      "time taken: 12.948216676712036\n",
      "epoch: 1 , training loss: 1.14392399564 , training acc: 0.693750000745 , valid loss: 0.983619359136 , valid acc: 0.773999992013\n",
      "epoch: 1 , pass acc: 0.773999992013 , current acc: 0.786999994516\n",
      "time taken: 12.27447247505188\n",
      "epoch: 2 , training loss: 0.94020460546 , training acc: 0.801249997318 , valid loss: 0.925050082803 , valid acc: 0.786999994516\n",
      "epoch: 2 , pass acc: 0.786999994516 , current acc: 0.80949999392\n",
      "time taken: 12.418052434921265\n",
      "epoch: 3 , training loss: 0.874695008993 , training acc: 0.820875001699 , valid loss: 0.890552929044 , valid acc: 0.80949999392\n",
      "time taken: 12.367435693740845\n",
      "epoch: 4 , training loss: 0.847881754488 , training acc: 0.836874997616 , valid loss: 0.880649524927 , valid acc: 0.807499995828\n",
      "epoch: 4 , pass acc: 0.80949999392 , current acc: 0.820999991894\n",
      "time taken: 12.505287885665894\n",
      "epoch: 5 , training loss: 0.807662587613 , training acc: 0.844625003636 , valid loss: 0.856998491287 , valid acc: 0.820999991894\n",
      "time taken: 12.325077533721924\n",
      "epoch: 6 , training loss: 0.773548166454 , training acc: 0.852750001103 , valid loss: 0.844580090046 , valid acc: 0.814999994636\n",
      "time taken: 12.468755006790161\n",
      "epoch: 7 , training loss: 0.747854467481 , training acc: 0.862250000238 , valid loss: 0.874435725808 , valid acc: 0.806999999285\n",
      "time taken: 12.242750644683838\n",
      "epoch: 8 , training loss: 0.719563148171 , training acc: 0.867375002056 , valid loss: 0.848665478826 , valid acc: 0.813500002027\n",
      "epoch: 8 , pass acc: 0.820999991894 , current acc: 0.825499996543\n",
      "time taken: 12.542668581008911\n",
      "epoch: 9 , training loss: 0.688293179125 , training acc: 0.887624999881 , valid loss: 0.830606514215 , valid acc: 0.825499996543\n",
      "time taken: 12.352703332901001\n",
      "epoch: 10 , training loss: 0.665663184971 , training acc: 0.892749997228 , valid loss: 0.829898175597 , valid acc: 0.823500001431\n",
      "epoch: 10 , pass acc: 0.825499996543 , current acc: 0.833499997854\n",
      "time taken: 12.509721994400024\n",
      "epoch: 11 , training loss: 0.622149825096 , training acc: 0.909999999404 , valid loss: 0.837880575657 , valid acc: 0.833499997854\n",
      "time taken: 9.361515522003174\n",
      "epoch: 12 , training loss: 0.594796664268 , training acc: 0.921125002205 , valid loss: 0.844515290856 , valid acc: 0.82499999702\n",
      "time taken: 9.224519968032837\n",
      "epoch: 13 , training loss: 0.555411950499 , training acc: 0.932750003785 , valid loss: 0.863129654527 , valid acc: 0.827500000596\n",
      "time taken: 8.60262155532837\n",
      "epoch: 14 , training loss: 0.512245854363 , training acc: 0.948750002682 , valid loss: 0.889686653018 , valid acc: 0.828499999642\n",
      "time taken: 8.505489826202393\n",
      "epoch: 15 , training loss: 0.485052745417 , training acc: 0.959625003487 , valid loss: 0.92573364377 , valid acc: 0.830000001192\n",
      "time taken: 8.5027916431427\n",
      "epoch: 16 , training loss: 0.467933859304 , training acc: 0.96787500605 , valid loss: 0.944149968028 , valid acc: 0.831000006199\n",
      "epoch: 16 , pass acc: 0.833499997854 , current acc: 0.846500000358\n",
      "time taken: 9.33450722694397\n",
      "epoch: 17 , training loss: 0.446328738704 , training acc: 0.970000007004 , valid loss: 0.959767872095 , valid acc: 0.846500000358\n",
      "time taken: 9.286881923675537\n",
      "epoch: 18 , training loss: 0.429444662482 , training acc: 0.976250008494 , valid loss: 0.960392409563 , valid acc: 0.843499997258\n",
      "time taken: 9.28586220741272\n",
      "epoch: 19 , training loss: 0.430646108836 , training acc: 0.973875010014 , valid loss: 1.01105247736 , valid acc: 0.825499993563\n",
      "time taken: 9.354972839355469\n",
      "epoch: 20 , training loss: 0.487073219568 , training acc: 0.954125005007 , valid loss: 0.930075991154 , valid acc: 0.841499999166\n",
      "time taken: 9.517162561416626\n",
      "epoch: 21 , training loss: 0.408990216628 , training acc: 0.978625010699 , valid loss: 1.03246263564 , valid acc: 0.836499997973\n",
      "time taken: 9.49746322631836\n",
      "epoch: 22 , training loss: 0.406505328417 , training acc: 0.977625009418 , valid loss: 1.04569481313 , valid acc: 0.834499999881\n",
      "time taken: 9.377572774887085\n",
      "epoch: 23 , training loss: 0.39828049019 , training acc: 0.98262500912 , valid loss: 1.23948018551 , valid acc: 0.816999998689\n",
      "time taken: 9.297496557235718\n",
      "epoch: 24 , training loss: 0.425480196625 , training acc: 0.969750008732 , valid loss: 1.26805918217 , valid acc: 0.8125\n",
      "time taken: 9.422748327255249\n",
      "epoch: 25 , training loss: 0.461649587378 , training acc: 0.956500003487 , valid loss: 1.11670382321 , valid acc: 0.813999995589\n",
      "time taken: 9.443052291870117\n",
      "epoch: 26 , training loss: 0.390281704813 , training acc: 0.978875006735 , valid loss: 1.05143178701 , valid acc: 0.828499996662\n",
      "time taken: 9.252383470535278\n",
      "epoch: 27 , training loss: 0.356633608416 , training acc: 0.990875007957 , valid loss: 1.26825215518 , valid acc: 0.811499997973\n",
      "break epoch: 27\n"
     ]
    }
   ],
   "source": [
    "tf.reset_default_graph()\n",
    "sess = tf.InteractiveSession()\n",
    "model = Model(num_layers, size_layer, vectors.shape[1], len(label), learning_rate)\n",
    "sess.run(tf.global_variables_initializer())\n",
    "dimension = vectors.shape[1]\n",
    "saver = tf.train.Saver(tf.global_variables())\n",
    "EARLY_STOPPING, CURRENT_CHECKPOINT, CURRENT_ACC, EPOCH = 10, 0, 0, 0\n",
    "while True:\n",
    "    lasttime = time.time()\n",
    "    if CURRENT_CHECKPOINT == EARLY_STOPPING:\n",
    "        print('break epoch:', EPOCH)\n",
    "        break\n",
    "    train_acc, train_loss, test_acc, test_loss = 0, 0, 0, 0\n",
    "    for i in range(0, (train_X.shape[0] // batch) * batch, batch):\n",
    "        batch_x = np.zeros((batch, maxlen, dimension))\n",
    "        batch_y = np.zeros((batch, len(label)))\n",
    "        for k in range(batch):\n",
    "            tokens = train_X[i + k].split()[:maxlen]\n",
    "            emb_data = np.zeros((maxlen, dimension), dtype = np.float32)\n",
    "            for no, text in enumerate(tokens[::-1]):\n",
    "                try:\n",
    "                    emb_data[-1 - no, :] += vectors[dictionary[text], :]\n",
    "                except Exception as e:\n",
    "                    print(e)\n",
    "                    continue\n",
    "            batch_y[k, int(train_Y[i + k])] = 1.0\n",
    "            batch_x[k, :, :] = emb_data[:, :]\n",
    "        loss, _ = sess.run([model.cost, model.optimizer], feed_dict = {model.X : batch_x, model.Y : batch_y})\n",
    "        train_loss += loss\n",
    "        train_acc += sess.run(model.accuracy, feed_dict = {model.X : batch_x, model.Y : batch_y})\n",
    "    \n",
    "    for i in range(0, (test_X.shape[0] // batch) * batch, batch):\n",
    "        batch_x = np.zeros((batch, maxlen, dimension))\n",
    "        batch_y = np.zeros((batch, len(label)))\n",
    "        for k in range(batch):\n",
    "            tokens = test_X[i + k].split()[:maxlen]\n",
    "            emb_data = np.zeros((maxlen, dimension), dtype = np.float32)\n",
    "            for no, text in enumerate(tokens[::-1]):\n",
    "                try:\n",
    "                    emb_data[-1 - no, :] += vectors[dictionary[text], :]\n",
    "                except:\n",
    "                    continue\n",
    "            batch_y[k, int(test_Y[i + k])] = 1.0\n",
    "            batch_x[k, :, :] = emb_data[:, :]\n",
    "        loss, acc = sess.run([model.cost, model.accuracy], feed_dict = {model.X : batch_x, model.Y : batch_y})\n",
    "        test_loss += loss\n",
    "        test_acc += acc\n",
    "        \n",
    "    train_loss /= (train_X.shape[0] // batch)\n",
    "    train_acc /= (train_X.shape[0] // batch)\n",
    "    test_loss /= (test_X.shape[0] // batch)\n",
    "    test_acc /= (test_X.shape[0] // batch)\n",
    "    if test_acc > CURRENT_ACC:\n",
    "        print('epoch:', EPOCH, ', pass acc:', CURRENT_ACC, ', current acc:', test_acc)\n",
    "        CURRENT_ACC = test_acc\n",
    "        CURRENT_CHECKPOINT = 0\n",
    "        saver.save(sess, os.getcwd() + \"/rnn-subjectivity.ckpt\")\n",
    "    else:\n",
    "        CURRENT_CHECKPOINT += 1\n",
    "    EPOCH += 1\n",
    "    print('time taken:', time.time()-lasttime)\n",
    "    print('epoch:', EPOCH, ', training loss:', train_loss, ', training acc:', train_acc, ', valid loss:', test_loss, ', valid acc:', test_acc)"
   ]
  },
  {
   "cell_type": "code",
   "execution_count": null,
   "metadata": {},
   "outputs": [],
   "source": []
  }
 ],
 "metadata": {
  "kernelspec": {
   "display_name": "Python 3",
   "language": "python",
   "name": "python3"
  },
  "language_info": {
   "codemirror_mode": {
    "name": "ipython",
    "version": 3
   },
   "file_extension": ".py",
   "mimetype": "text/x-python",
   "name": "python",
   "nbconvert_exporter": "python",
   "pygments_lexer": "ipython3",
   "version": "3.5.2"
  }
 },
 "nbformat": 4,
 "nbformat_minor": 2
}
