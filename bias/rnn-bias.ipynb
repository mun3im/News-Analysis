{
 "cells": [
  {
   "cell_type": "code",
   "execution_count": 1,
   "metadata": {},
   "outputs": [
    {
     "name": "stderr",
     "output_type": "stream",
     "text": [
      "/usr/local/lib/python3.5/dist-packages/sklearn/cross_validation.py:41: DeprecationWarning: This module was deprecated in version 0.18 in favor of the model_selection module into which all the refactored classes and functions are moved. Also note that the interface of the new CV iterators are different from that of this module. This module will be removed in 0.20.\n",
      "  \"This module will be removed in 0.20.\", DeprecationWarning)\n"
     ]
    }
   ],
   "source": [
    "import tensorflow as tf\n",
    "import numpy as np\n",
    "import time\n",
    "import os\n",
    "from sklearn.preprocessing import LabelEncoder\n",
    "from nltk.corpus import stopwords\n",
    "import re\n",
    "from nltk.tokenize import word_tokenize\n",
    "import collections\n",
    "import random\n",
    "from unidecode import unidecode\n",
    "import time\n",
    "from sklearn.cross_validation import train_test_split\n",
    "import itertools\n",
    "import pickle\n",
    "\n",
    "english_stopwords = stopwords.words('english')"
   ]
  },
  {
   "cell_type": "code",
   "execution_count": 2,
   "metadata": {},
   "outputs": [],
   "source": [
    "def clearstring(string):\n",
    "    string = unidecode(string)\n",
    "    string = re.sub('[^A-Za-z ]+', '', string)\n",
    "    string = word_tokenize(string)\n",
    "    string = filter(None, string)\n",
    "    string = [y.strip() for y in string]\n",
    "    string = [y for y in string if len(y) > 2 and y.find('nbsp') < 0 and y.find('href') < 0 and y not in english_stopwords]\n",
    "    string = ' '.join(string).lower()\n",
    "    return ''.join(''.join(s)[:2] for _, s in itertools.groupby(string))\n",
    "\n",
    "def read_data(location):\n",
    "    list_folder = os.listdir(location)\n",
    "    label = list_folder\n",
    "    label.sort()\n",
    "    outer_string, outer_label = [], []\n",
    "    for i in range(len(list_folder)):\n",
    "        list_file = os.listdir(location + list_folder[i])\n",
    "        strings = []\n",
    "        for x in range(len(list_file)):\n",
    "            with open(location + list_folder[i] + '/' + list_file[x], 'r') as fopen:\n",
    "                strings += fopen.read().split('\\n')\n",
    "        strings = list(filter(None, strings))\n",
    "        for k in range(len(strings)):\n",
    "            strings[k] = clearstring(strings[k])\n",
    "        labels = [i] * len(strings)\n",
    "        outer_string += strings\n",
    "        outer_label += labels\n",
    "    \n",
    "    dataset = np.array([outer_string, outer_label])\n",
    "    dataset = dataset.T\n",
    "    np.random.shuffle(dataset)\n",
    "    \n",
    "    string = []\n",
    "    for i in range(dataset.shape[0]):\n",
    "        string += dataset[i][0].split()\n",
    "    \n",
    "    return string, dataset, label"
   ]
  },
  {
   "cell_type": "code",
   "execution_count": 3,
   "metadata": {},
   "outputs": [
    {
     "data": {
      "text/plain": [
       "array([['gianezmusic pleasure honored represent keywest', '0'],\n",
       "       [ 'opportunityplan equal pay paid family leave raise minimum wage affordable child care prek',\n",
       "        '1'],\n",
       "       [ 'know tax compliance costs percent higher small businesses big businesses like ready real reforms tax code',\n",
       "        '1'],\n",
       "       [ 'enjoyed meeting today wlouisiana startups innovating driving economy forward thanks cea gnoinc google hosting',\n",
       "        '0'],\n",
       "       ['look duncan ran morning', '0']],\n",
       "      dtype='<U8069')"
      ]
     },
     "execution_count": 3,
     "metadata": {},
     "output_type": "execute_result"
    }
   ],
   "source": [
    "_,df,label = read_data('/home/husein/space/text-dataset/bias/data/')\n",
    "df[:5,:]"
   ]
  },
  {
   "cell_type": "code",
   "execution_count": 4,
   "metadata": {},
   "outputs": [],
   "source": [
    "with open('vector-bias.p', 'rb') as fopen:\n",
    "    vectors = pickle.load(fopen)\n",
    "with open('dict-bias.p', 'rb') as fopen:\n",
    "    dictionary = pickle.load(fopen)"
   ]
  },
  {
   "cell_type": "code",
   "execution_count": 5,
   "metadata": {},
   "outputs": [],
   "source": [
    "train_X, test_X, train_Y, test_Y = train_test_split(df[:,0], df[:, 1].astype('int'), test_size = 0.2)"
   ]
  },
  {
   "cell_type": "code",
   "execution_count": 6,
   "metadata": {},
   "outputs": [],
   "source": [
    "class Model:\n",
    "    \n",
    "    def __init__(self, num_layers, size_layer, dimension_input, dimension_output, learning_rate):\n",
    "        def lstm_cell():\n",
    "            return tf.nn.rnn_cell.LSTMCell(size_layer)\n",
    "        self.rnn_cells = tf.nn.rnn_cell.MultiRNNCell([lstm_cell() for _ in range(num_layers)])\n",
    "        self.X = tf.placeholder(tf.float32, [None, None, dimension_input])\n",
    "        self.Y = tf.placeholder(tf.float32, [None, dimension_output])\n",
    "        drop = tf.contrib.rnn.DropoutWrapper(self.rnn_cells, output_keep_prob = 0.5)\n",
    "        self.outputs, self.last_state = tf.nn.dynamic_rnn(drop, self.X, dtype = tf.float32)\n",
    "        self.rnn_W = tf.Variable(tf.random_normal((size_layer, dimension_output)))\n",
    "        self.rnn_B = tf.Variable(tf.random_normal([dimension_output]))\n",
    "        self.logits = tf.matmul(self.outputs[:, -1], self.rnn_W) + self.rnn_B\n",
    "        self.cost = tf.reduce_mean(tf.nn.softmax_cross_entropy_with_logits(logits = self.logits, labels = self.Y))\n",
    "        l2 = sum(0.0005 * tf.nn.l2_loss(tf_var) for tf_var in tf.trainable_variables())\n",
    "        self.cost += l2\n",
    "        self.optimizer = tf.train.AdamOptimizer(learning_rate = learning_rate).minimize(self.cost)\n",
    "        self.correct_pred = tf.equal(tf.argmax(self.logits, 1), tf.argmax(self.Y, 1))\n",
    "        self.accuracy = tf.reduce_mean(tf.cast(self.correct_pred, tf.float32))"
   ]
  },
  {
   "cell_type": "code",
   "execution_count": 7,
   "metadata": {},
   "outputs": [],
   "source": [
    "lens = [len(df[i,0].split())for i in range(df.shape[0])]"
   ]
  },
  {
   "cell_type": "code",
   "execution_count": 8,
   "metadata": {},
   "outputs": [
    {
     "data": {
      "text/plain": [
       "17.80012016823553"
      ]
     },
     "execution_count": 8,
     "metadata": {},
     "output_type": "execute_result"
    }
   ],
   "source": [
    "np.mean(lens)"
   ]
  },
  {
   "cell_type": "code",
   "execution_count": 9,
   "metadata": {},
   "outputs": [],
   "source": [
    "maxlen = 20\n",
    "location = os.getcwd()\n",
    "num_layers = 2\n",
    "size_layer = 256\n",
    "learning_rate = 0.0001\n",
    "batch = 100"
   ]
  },
  {
   "cell_type": "code",
   "execution_count": 10,
   "metadata": {},
   "outputs": [
    {
     "name": "stdout",
     "output_type": "stream",
     "text": [
      "WARNING:tensorflow:From <ipython-input-6-b7c083deade6>:14: softmax_cross_entropy_with_logits (from tensorflow.python.ops.nn_ops) is deprecated and will be removed in a future version.\n",
      "Instructions for updating:\n",
      "\n",
      "Future major versions of TensorFlow will allow gradients to flow\n",
      "into the labels input on backprop by default.\n",
      "\n",
      "See tf.nn.softmax_cross_entropy_with_logits_v2.\n",
      "\n",
      "'advocated'\n",
      "epoch: 0 , pass acc: 0 , current acc: 0.682222227256\n",
      "time taken: 5.120428800582886\n",
      "epoch: 1 , training loss: 1.22441423245 , training acc: 0.700000000306 , valid loss: 1.1414123906 , valid acc: 0.682222227256\n",
      "'advocated'\n",
      "epoch: 1 , pass acc: 0.682222227256 , current acc: 0.724444442325\n",
      "time taken: 5.285602331161499\n",
      "epoch: 2 , training loss: 1.06899962975 , training acc: 0.734615387061 , valid loss: 1.08174938626 , valid acc: 0.724444442325\n",
      "'advocated'\n",
      "time taken: 6.242504835128784\n",
      "epoch: 3 , training loss: 1.0286376782 , training acc: 0.745641026741 , valid loss: 1.09106459883 , valid acc: 0.708888894982\n",
      "'advocated'\n",
      "epoch: 3 , pass acc: 0.724444442325 , current acc: 0.725555565622\n",
      "time taken: 6.144476890563965\n",
      "epoch: 4 , training loss: 0.999627024699 , training acc: 0.761282046636 , valid loss: 1.05060300562 , valid acc: 0.725555565622\n",
      "'advocated'\n",
      "time taken: 6.17535138130188\n",
      "epoch: 5 , training loss: 0.977037484829 , training acc: 0.774358969468 , valid loss: 1.05729540189 , valid acc: 0.698888891273\n",
      "'advocated'\n",
      "time taken: 5.886464595794678\n",
      "epoch: 6 , training loss: 0.957112842645 , training acc: 0.782564103603 , valid loss: 1.07316925791 , valid acc: 0.706666661633\n",
      "'advocated'\n",
      "epoch: 6 , pass acc: 0.725555565622 , current acc: 0.727777785725\n",
      "time taken: 6.28365421295166\n",
      "epoch: 7 , training loss: 0.926168967516 , training acc: 0.786153842241 , valid loss: 1.07589904467 , valid acc: 0.727777785725\n",
      "'advocated'\n",
      "time taken: 6.0099937915802\n",
      "epoch: 8 , training loss: 0.912837681098 , training acc: 0.795128201827 , valid loss: 1.02315966951 , valid acc: 0.724444448948\n",
      "'advocated'\n",
      "epoch: 8 , pass acc: 0.727777785725 , current acc: 0.732222232554\n",
      "time taken: 6.249168157577515\n",
      "epoch: 9 , training loss: 0.883730831819 , training acc: 0.794358976376 , valid loss: 1.04535464446 , valid acc: 0.732222232554\n",
      "'advocated'\n",
      "epoch: 9 , pass acc: 0.732222232554 , current acc: 0.736666659514\n",
      "time taken: 6.02774453163147\n",
      "epoch: 10 , training loss: 0.869470518369 , training acc: 0.805897434553 , valid loss: 1.02330862151 , valid acc: 0.736666659514\n",
      "'advocated'\n",
      "time taken: 6.176230430603027\n",
      "epoch: 11 , training loss: 0.83376682416 , training acc: 0.82153846056 , valid loss: 1.07626373238 , valid acc: 0.722222215599\n",
      "'advocated'\n",
      "time taken: 6.062762975692749\n",
      "epoch: 12 , training loss: 0.82172922599 , training acc: 0.834358971853 , valid loss: 1.08971281846 , valid acc: 0.728888889154\n",
      "'advocated'\n",
      "time taken: 6.1248838901519775\n",
      "epoch: 13 , training loss: 0.794698285751 , training acc: 0.840769229791 , valid loss: 1.08882508013 , valid acc: 0.734444439411\n",
      "'advocated'\n",
      "epoch: 13 , pass acc: 0.736666659514 , current acc: 0.743333346314\n",
      "time taken: 6.171226739883423\n",
      "epoch: 14 , training loss: 0.766496803516 , training acc: 0.842051282907 , valid loss: 1.07104395496 , valid acc: 0.743333346314\n",
      "'advocated'\n",
      "time taken: 6.190320014953613\n",
      "epoch: 15 , training loss: 0.750268518925 , training acc: 0.856923072766 , valid loss: 1.11114132404 , valid acc: 0.734444439411\n",
      "'advocated'\n",
      "time taken: 6.169905662536621\n",
      "epoch: 16 , training loss: 0.722273737956 , training acc: 0.874102564958 , valid loss: 1.11227586534 , valid acc: 0.732222219308\n",
      "'advocated'\n",
      "time taken: 6.082035303115845\n",
      "epoch: 17 , training loss: 0.685520954621 , training acc: 0.89179487259 , valid loss: 1.18346383837 , valid acc: 0.731111115879\n",
      "'advocated'\n",
      "time taken: 6.258464574813843\n",
      "epoch: 18 , training loss: 0.655679493378 , training acc: 0.901282052199 , valid loss: 1.18511414528 , valid acc: 0.717777775394\n",
      "'advocated'\n",
      "time taken: 6.203819274902344\n",
      "epoch: 19 , training loss: 0.627246359984 , training acc: 0.917179489747 , valid loss: 1.23314412435 , valid acc: 0.725555565622\n",
      "'advocated'\n",
      "time taken: 5.989884376525879\n",
      "epoch: 20 , training loss: 0.595498921015 , training acc: 0.929230771004 , valid loss: 1.31558273898 , valid acc: 0.695555554496\n",
      "'advocated'\n",
      "time taken: 5.9436163902282715\n",
      "epoch: 21 , training loss: 0.5719912098 , training acc: 0.933589747319 , valid loss: 1.40853500366 , valid acc: 0.734444452657\n",
      "'advocated'\n",
      "time taken: 6.134913206100464\n",
      "epoch: 22 , training loss: 0.555880449521 , training acc: 0.943333335412 , valid loss: 1.41637153096 , valid acc: 0.725555552377\n",
      "'advocated'\n",
      "time taken: 6.169149160385132\n",
      "epoch: 23 , training loss: 0.572071611117 , training acc: 0.935641028942 , valid loss: 1.51384172175 , valid acc: 0.677777773804\n",
      "'advocated'\n",
      "time taken: 6.118644952774048\n",
      "epoch: 24 , training loss: 0.540597409774 , training acc: 0.945897441644 , valid loss: 1.41079280112 , valid acc: 0.714444445239\n",
      "break epoch: 24\n"
     ]
    }
   ],
   "source": [
    "tf.reset_default_graph()\n",
    "sess = tf.InteractiveSession()\n",
    "model = Model(num_layers, size_layer, vectors.shape[1], len(label), learning_rate)\n",
    "sess.run(tf.global_variables_initializer())\n",
    "dimension = vectors.shape[1]\n",
    "saver = tf.train.Saver(tf.global_variables())\n",
    "EARLY_STOPPING, CURRENT_CHECKPOINT, CURRENT_ACC, EPOCH = 10, 0, 0, 0\n",
    "while True:\n",
    "    lasttime = time.time()\n",
    "    if CURRENT_CHECKPOINT == EARLY_STOPPING:\n",
    "        print('break epoch:', EPOCH)\n",
    "        break\n",
    "    train_acc, train_loss, test_acc, test_loss = 0, 0, 0, 0\n",
    "    for i in range(0, (train_X.shape[0] // batch) * batch, batch):\n",
    "        batch_x = np.zeros((batch, maxlen, dimension))\n",
    "        batch_y = np.zeros((batch, len(label)))\n",
    "        for k in range(batch):\n",
    "            tokens = train_X[i + k].split()[:maxlen]\n",
    "            emb_data = np.zeros((maxlen, dimension), dtype = np.float32)\n",
    "            for no, text in enumerate(tokens[::-1]):\n",
    "                try:\n",
    "                    emb_data[-1 - no, :] += vectors[dictionary[text], :]\n",
    "                except Exception as e:\n",
    "                    print(e)\n",
    "                    continue\n",
    "            batch_y[k, int(train_Y[i + k])] = 1.0\n",
    "            batch_x[k, :, :] = emb_data[:, :]\n",
    "        loss, _ = sess.run([model.cost, model.optimizer], feed_dict = {model.X : batch_x, model.Y : batch_y})\n",
    "        train_loss += loss\n",
    "        train_acc += sess.run(model.accuracy, feed_dict = {model.X : batch_x, model.Y : batch_y})\n",
    "    \n",
    "    for i in range(0, (test_X.shape[0] // batch) * batch, batch):\n",
    "        batch_x = np.zeros((batch, maxlen, dimension))\n",
    "        batch_y = np.zeros((batch, len(label)))\n",
    "        for k in range(batch):\n",
    "            tokens = test_X[i + k].split()[:maxlen]\n",
    "            emb_data = np.zeros((maxlen, dimension), dtype = np.float32)\n",
    "            for no, text in enumerate(tokens[::-1]):\n",
    "                try:\n",
    "                    emb_data[-1 - no, :] += vectors[dictionary[text], :]\n",
    "                except:\n",
    "                    continue\n",
    "            batch_y[k, int(test_Y[i + k])] = 1.0\n",
    "            batch_x[k, :, :] = emb_data[:, :]\n",
    "        loss, acc = sess.run([model.cost, model.accuracy], feed_dict = {model.X : batch_x, model.Y : batch_y})\n",
    "        test_loss += loss\n",
    "        test_acc += acc\n",
    "        \n",
    "    train_loss /= (train_X.shape[0] // batch)\n",
    "    train_acc /= (train_X.shape[0] // batch)\n",
    "    test_loss /= (test_X.shape[0] // batch)\n",
    "    test_acc /= (test_X.shape[0] // batch)\n",
    "    if test_acc > CURRENT_ACC:\n",
    "        print('epoch:', EPOCH, ', pass acc:', CURRENT_ACC, ', current acc:', test_acc)\n",
    "        CURRENT_ACC = test_acc\n",
    "        CURRENT_CHECKPOINT = 0\n",
    "        saver.save(sess, os.getcwd() + \"/rnn-bias.ckpt\")\n",
    "    else:\n",
    "        CURRENT_CHECKPOINT += 1\n",
    "    EPOCH += 1\n",
    "    print('time taken:', time.time()-lasttime)\n",
    "    print('epoch:', EPOCH, ', training loss:', train_loss, ', training acc:', train_acc, ', valid loss:', test_loss, ', valid acc:', test_acc)"
   ]
  },
  {
   "cell_type": "code",
   "execution_count": null,
   "metadata": {},
   "outputs": [],
   "source": []
  }
 ],
 "metadata": {
  "kernelspec": {
   "display_name": "Python 3",
   "language": "python",
   "name": "python3"
  },
  "language_info": {
   "codemirror_mode": {
    "name": "ipython",
    "version": 3
   },
   "file_extension": ".py",
   "mimetype": "text/x-python",
   "name": "python",
   "nbconvert_exporter": "python",
   "pygments_lexer": "ipython3",
   "version": "3.5.2"
  }
 },
 "nbformat": 4,
 "nbformat_minor": 2
}
